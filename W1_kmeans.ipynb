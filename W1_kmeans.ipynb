{
 "cells": [
  {
   "cell_type": "markdown",
   "id": "8af86ff9-cc8b-456d-969f-52600e7ce1a6",
   "metadata": {},
   "source": [
    "# K-means\n",
    "In this notebook, we'll implement the K-means algorithm, and use it on a sample dataset from the course graded lab.  \n",
    "The code here are based on my own implementations in the graded lab, organized and rewritten to be more succinct and clear."
   ]
  },
  {
   "cell_type": "markdown",
   "id": "74c9781c-1b22-4364-af6f-0496eb0060fa",
   "metadata": {},
   "source": [
    "## Tools"
   ]
  },
  {
   "cell_type": "code",
   "execution_count": 1,
   "id": "883cb79b-9def-4c9b-9fb6-0e652a39ce1f",
   "metadata": {},
   "outputs": [],
   "source": [
    "import numpy as np\n",
    "import matplotlib.pyplot as plt"
   ]
  },
  {
   "cell_type": "markdown",
   "id": "271dbad1-4c3b-4e2e-bbcd-47f3c6588148",
   "metadata": {},
   "source": [
    "## K-means Algorithm\n",
    "\n",
    "The K-means algorithm is a method to automatically cluster similar\n",
    "data points together. \n",
    "\n",
    "* Concretely, you are given a training set $\\{x^{(1)}, ..., x^{(m)}\\}$, and you want\n",
    "to group the data into a few cohesive “clusters”. \n",
    "\n",
    "\n",
    "* K-means is an iterative procedure that\n",
    "     * Starts by guessing the initial centroids, and then \n",
    "     * Refines this guess by \n",
    "         * Repeatedly assigning examples to their closest centroids, and then \n",
    "         * Recomputing the centroids based on the assignments.\n",
    "         \n",
    "\n",
    "* In pseudocode, the K-means algorithm is as follows:\n",
    "\n",
    "    ``` python\n",
    "    # Initialize centroids\n",
    "    # K is the number of clusters\n",
    "    centroids = kMeans_init_centroids(X, K)\n",
    "    \n",
    "    for iter in range(iterations):\n",
    "        # 1. Cluster assignment step: \n",
    "        # Assign each data point to the closest centroid. \n",
    "        # idx[i] corresponds to the index of the centroid \n",
    "        # assigned to example i\n",
    "        idx = find_closest_centroids(X, centroids)\n",
    "\n",
    "        # 2. Move centroid step: \n",
    "        # Compute means based on centroid assignments\n",
    "        centroids = compute_centroids(X, idx, K)\n",
    "    ```"
   ]
  },
  {
   "cell_type": "markdown",
   "id": "281c55f7-7bb9-4c69-8af4-bfe964c4a956",
   "metadata": {},
   "source": [
    "## Implementation\n",
    "\n",
    "Our implementation of the K-means algorithm will consist of the following functions:\n",
    "- `find_closest_centroids`: assign each data point to the closest centroid.\n",
    "- `compute_centroids`: compute means of each cluster based on centroid assignments\n",
    "- `kMeans_init_centroids`: randomly initialize K cluster centroids\n",
    "- `run_kMeans`: run K-means iteratively"
   ]
  },
  {
   "cell_type": "code",
   "execution_count": null,
   "id": "6ed591ec-c7c6-4b9e-8649-d1301eb3c95f",
   "metadata": {},
   "outputs": [],
   "source": [
    "def find_closest_centroids(X, centroids):\n",
    "    \"\"\"\n",
    "    Computes the centroid memberships for every example\n",
    "    \n",
    "    Args:\n",
    "        X (ndarray): (m, n) Input values      \n",
    "        centroids (ndarray): (K, n) centroids\n",
    "    \n",
    "    Returns:\n",
    "        idx (array_like): (m,) closest centroids\n",
    "    \n",
    "    \"\"\"\n",
    "    # Set K\n",
    "    K = centroids.shape[0]\n",
    "\n",
    "    # You need to return the following variables correctly\n",
    "    idx = np.zeros(X.shape[0], dtype=int)\n",
    "\n",
    "    ### START CODE HERE ###\n",
    "    for i in range(X.shape[0]):\n",
    "        idx[i] = np.argmin(np.linalg.norm((X[i, :] - centroids), axis=1))\n",
    " \n",
    "     ### END CODE HERE ###\n",
    "    \n",
    "    return idx"
   ]
  }
 ],
 "metadata": {
  "kernelspec": {
   "display_name": "Python 3 (ipykernel)",
   "language": "python",
   "name": "python3"
  },
  "language_info": {
   "codemirror_mode": {
    "name": "ipython",
    "version": 3
   },
   "file_extension": ".py",
   "mimetype": "text/x-python",
   "name": "python",
   "nbconvert_exporter": "python",
   "pygments_lexer": "ipython3",
   "version": "3.9.13"
  }
 },
 "nbformat": 4,
 "nbformat_minor": 5
}
