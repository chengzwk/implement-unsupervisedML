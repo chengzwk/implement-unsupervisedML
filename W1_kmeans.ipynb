{
 "cells": [
  {
   "cell_type": "markdown",
   "id": "8af86ff9-cc8b-456d-969f-52600e7ce1a6",
   "metadata": {},
   "source": [
    "# K-means\n",
    "In this notebook, we'll implement the K-means algorithm, and use it on a sample dataset from the course graded lab.  \n",
    "The code here are based on my own implementations in the graded lab, organized and rewritten to be more succinct and clear."
   ]
  },
  {
   "cell_type": "markdown",
   "id": "74c9781c-1b22-4364-af6f-0496eb0060fa",
   "metadata": {},
   "source": [
    "## Tools"
   ]
  },
  {
   "cell_type": "code",
   "execution_count": 1,
   "id": "883cb79b-9def-4c9b-9fb6-0e652a39ce1f",
   "metadata": {},
   "outputs": [],
   "source": [
    "import numpy as np\n",
    "import matplotlib.pyplot as plt"
   ]
  },
  {
   "cell_type": "markdown",
   "id": "d4c51f73-f981-4e14-8750-f1404df84f00",
   "metadata": {},
   "source": [
    "## Dataset"
   ]
  },
  {
   "cell_type": "code",
   "execution_count": 3,
   "id": "1717ece4-d43b-464b-aab7-fc9d069963cd",
   "metadata": {},
   "outputs": [],
   "source": [
    "## Load dataset\n",
    "X = np.genfromtxt('kmeans_data.csv', delimiter=',')"
   ]
  },
  {
   "cell_type": "code",
   "execution_count": 5,
   "id": "d48abf7d-66a9-4d65-8291-981c1ccbc370",
   "metadata": {},
   "outputs": [
    {
     "name": "stdout",
     "output_type": "stream",
     "text": [
      "First five elements of X are:\n",
      " [[1.84207953 4.6075716 ]\n",
      " [5.65858312 4.79996405]\n",
      " [6.35257892 3.2908545 ]\n",
      " [2.90401653 4.61220411]\n",
      " [3.23197916 4.93989405]]\n",
      "The shape of X is: (300, 2)\n"
     ]
    }
   ],
   "source": [
    "print(\"First five elements of X are:\\n\", X[:5]) \n",
    "print('The shape of X is:', X.shape)"
   ]
  },
  {
   "cell_type": "markdown",
   "id": "271dbad1-4c3b-4e2e-bbcd-47f3c6588148",
   "metadata": {},
   "source": [
    "## K-means Algorithm\n",
    "\n",
    "The K-means algorithm is a method to automatically cluster similar\n",
    "data points together. \n",
    "\n",
    "* Concretely, you are given a training set $\\{x^{(1)}, ..., x^{(m)}\\}$, and you want\n",
    "to group the data into a few cohesive “clusters”. \n",
    "\n",
    "\n",
    "* K-means is an iterative procedure that\n",
    "     * Starts by guessing the initial centroids, and then \n",
    "     * Refines this guess by \n",
    "         * Repeatedly assigning examples to their closest centroids, and then \n",
    "         * Recomputing the centroids based on the assignments.\n",
    "         \n",
    "\n",
    "* In pseudocode, the K-means algorithm is as follows:\n",
    "\n",
    "    ``` python\n",
    "    # Initialize centroids\n",
    "    # K is the number of clusters\n",
    "    centroids = kMeans_init_centroids(X, K)\n",
    "    \n",
    "    for iter in range(iterations):\n",
    "        # 1. Cluster assignment step: \n",
    "        # Assign each data point to the closest centroid. \n",
    "        # idx[i] corresponds to the index of the centroid \n",
    "        # assigned to example i\n",
    "        idx = find_closest_centroids(X, centroids)\n",
    "\n",
    "        # 2. Move centroid step: \n",
    "        # Compute means based on centroid assignments\n",
    "        centroids = compute_centroids(X, idx, K)\n",
    "    ```"
   ]
  },
  {
   "cell_type": "markdown",
   "id": "281c55f7-7bb9-4c69-8af4-bfe964c4a956",
   "metadata": {},
   "source": [
    "## Implementation\n",
    "\n",
    "Our implementation of the K-means algorithm will consist of the following functions:\n",
    "- `find_closest_centroids`: assign each data point to the closest centroid.\n",
    "- `compute_centroids`: compute means of each cluster based on centroid assignments\n",
    "- `kMeans_init_centroids`: randomly initialize K cluster centroids\n",
    "- `run_kMeans`: run K-means iteratively"
   ]
  },
  {
   "cell_type": "code",
   "execution_count": 4,
   "id": "6ed591ec-c7c6-4b9e-8649-d1301eb3c95f",
   "metadata": {},
   "outputs": [],
   "source": [
    "def find_closest_centroids(X, centroids):\n",
    "    \"\"\"\n",
    "    Computes the centroid memberships for every example\n",
    "    \n",
    "    Args:\n",
    "        X (ndarray): (m, n) Input values      \n",
    "        centroids (ndarray): (K, n) centroids\n",
    "    \n",
    "    Returns:\n",
    "        idx (array_like): (m,) closest centroids\n",
    "    \n",
    "    \"\"\"\n",
    "    idx = np.zeros(X.shape[0], dtype=int)\n",
    "\n",
    "    for i in range(X.shape[0]):\n",
    "        idx[i] = np.argmin(np.linalg.norm((X[i, :] - centroids), axis=1))\n",
    "     \n",
    "    return idx"
   ]
  },
  {
   "cell_type": "code",
   "execution_count": 6,
   "id": "9ed1ea61-047a-4d79-9210-84cea57a64cf",
   "metadata": {},
   "outputs": [
    {
     "name": "stdout",
     "output_type": "stream",
     "text": [
      "First three elements in idx are: [0 2 1]\n"
     ]
    }
   ],
   "source": [
    "# Select an initial set of centroids (3 Centroids)\n",
    "initial_centroids = np.array([[3,3], [6,2], [8,5]])\n",
    "\n",
    "# Find closest centroids using initial_centroids\n",
    "idx = find_closest_centroids(X, initial_centroids)\n",
    "\n",
    "# Print closest centroids for the first three elements\n",
    "print(\"First three elements in idx are:\", idx[:3])"
   ]
  },
  {
   "cell_type": "markdown",
   "id": "ceb13a21-ce54-4fe9-83d3-3092bcfd211b",
   "metadata": {},
   "source": [
    "**Expected Output**:\n",
    "<table>\n",
    "  <tr>\n",
    "    <td> <b>First three elements in idx are<b></td>\n",
    "    <td> [0 2 1] </td> \n",
    "  </tr>\n",
    "</table>"
   ]
  },
  {
   "cell_type": "code",
   "execution_count": 11,
   "id": "02819d9b-b5e1-4c34-a86b-ac0021afb5e7",
   "metadata": {},
   "outputs": [],
   "source": [
    "def compute_centroids(X, idx, K):\n",
    "    \"\"\"\n",
    "    Returns the new centroids by computing the means of the \n",
    "    data points assigned to each centroid.\n",
    "    \n",
    "    Args:\n",
    "        X (ndarray):   (m, n) Data points\n",
    "        idx (ndarray): (m,) Array containing index of closest centroid for each \n",
    "                       example in X. Concretely, idx[i] contains the index of \n",
    "                       the centroid closest to example i\n",
    "        K (int):       number of centroids\n",
    "    \n",
    "    Returns:\n",
    "        centroids (ndarray): (K, n) New centroids computed\n",
    "    \"\"\"\n",
    "    centroids = np.zeros((K, X.shape[1]))\n",
    "    \n",
    "    for k in range(K):\n",
    "        idx_ck = idx == k\n",
    "        centroids[k, :] = np.mean(X[idx_ck, :], axis=0)\n",
    "    \n",
    "    return centroids"
   ]
  },
  {
   "cell_type": "code",
   "execution_count": 12,
   "id": "df4623fc-728e-4748-be14-63d46f769072",
   "metadata": {},
   "outputs": [
    {
     "name": "stdout",
     "output_type": "stream",
     "text": [
      "The centroids are: [[2.42830111 3.15792418]\n",
      " [5.81350331 2.63365645]\n",
      " [7.11938687 3.6166844 ]]\n"
     ]
    }
   ],
   "source": [
    "K = 3\n",
    "centroids = compute_centroids(X, idx, K)\n",
    "\n",
    "print(\"The centroids are:\", centroids)"
   ]
  },
  {
   "cell_type": "markdown",
   "id": "3e214560-4f10-4da9-bc8f-ce04e68f47c1",
   "metadata": {},
   "source": [
    "**Expected Output**:\n",
    "\n",
    "2.42830111 3.15792418\n",
    "\n",
    "5.81350331 2.63365645\n",
    "\n",
    "7.11938687 3.6166844 "
   ]
  },
  {
   "cell_type": "code",
   "execution_count": null,
   "id": "93990b1b-2f41-4460-954a-01d69cf05834",
   "metadata": {},
   "outputs": [],
   "source": [
    "def kMeans_init_centroids(X, K):\n",
    "    \"\"\"\n",
    "    This function initializes K centroids that are to be \n",
    "    used in K-Means on the dataset X\n",
    "    \n",
    "    Args:\n",
    "        X (ndarray): Data points \n",
    "        K (int):     number of centroids/clusters\n",
    "    \n",
    "    Returns:\n",
    "        centroids (ndarray): Initialized centroids\n",
    "    \"\"\"\n",
    "    points_choice = "
   ]
  },
  {
   "cell_type": "code",
   "execution_count": null,
   "id": "59c13bff-9435-4b2c-aae6-d8aa5180731d",
   "metadata": {},
   "outputs": [],
   "source": [
    "def run_kMeans(X, initial_centroids, max_iters=10, plot_progress=False):\n",
    "    \"\"\"\n",
    "    Runs the K-Means algorithm on data matrix X, where each row of X\n",
    "    is a single example\n",
    "    \"\"\"\n",
    "    "
   ]
  }
 ],
 "metadata": {
  "kernelspec": {
   "display_name": "Python 3 (ipykernel)",
   "language": "python",
   "name": "python3"
  },
  "language_info": {
   "codemirror_mode": {
    "name": "ipython",
    "version": 3
   },
   "file_extension": ".py",
   "mimetype": "text/x-python",
   "name": "python",
   "nbconvert_exporter": "python",
   "pygments_lexer": "ipython3",
   "version": "3.9.13"
  }
 },
 "nbformat": 4,
 "nbformat_minor": 5
}
