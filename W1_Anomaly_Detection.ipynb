{
 "cells": [
  {
   "cell_type": "markdown",
   "id": "9537dd1c-eb5e-496b-b13f-e6c813890acd",
   "metadata": {},
   "source": [
    "# Anomaly Detection\n",
    "In this notebook, we'll implement the anomaly detection algorithm, and use it on two sample datasets from the course graded lab.  \n",
    "The code here are based on my own implementations in the graded lab, organized and rewritten to be more succinct and clear."
   ]
  },
  {
   "cell_type": "markdown",
   "id": "07b72abf-a670-45d6-8953-cd22d017b995",
   "metadata": {},
   "source": [
    "## Tools"
   ]
  },
  {
   "cell_type": "code",
   "execution_count": 74,
   "id": "72aab997-03c9-4610-bd69-396af30a53f0",
   "metadata": {},
   "outputs": [],
   "source": [
    "import numpy as np\n",
    "import matplotlib.pyplot as plt\n",
    "import warnings\n",
    "warnings.filterwarnings('ignore')"
   ]
  },
  {
   "cell_type": "markdown",
   "id": "c80a4107-5ae0-4626-96ea-7108baa80d97",
   "metadata": {},
   "source": [
    "## Dataset\n",
    "\n",
    "### Problem Statement\n",
    "\n",
    "In this exercise, you will implement an anomaly detection algorithm to\n",
    "detect anomalous behavior in server computers.\n",
    "\n",
    "The dataset contains two features - \n",
    "   * throughput (mb/s) and \n",
    "   * latency (ms) of response of each server.\n",
    "\n",
    "While your servers were operating, you collected $m=307$ examples of how they were behaving, and thus have an unlabeled dataset $\\{x^{(1)}, \\ldots, x^{(m)}\\}$. \n",
    "* You suspect that the vast majority of these examples are “normal” (non-anomalous) examples of the servers operating normally, but there might also be some examples of servers acting anomalously within this dataset.\n",
    "\n",
    "You will use a Gaussian model to detect anomalous examples in your\n",
    "dataset. \n",
    "\n",
    "### Dataset"
   ]
  },
  {
   "cell_type": "code",
   "execution_count": 75,
   "id": "47405d21-a918-49cd-8629-34167f7e721b",
   "metadata": {},
   "outputs": [],
   "source": [
    "# Load the dataset\n",
    "X_train = np.load('./data_anomaly/X_part1.npy')\n",
    "X_val =  np.load('./data_anomaly/X_val_part1.npy')\n",
    "y_val = np.load('./data_anomaly/y_val_part1.npy')"
   ]
  },
  {
   "cell_type": "code",
   "execution_count": 76,
   "id": "2113ac9b-fa44-4274-b1b3-4a7f98ac64e8",
   "metadata": {},
   "outputs": [
    {
     "name": "stdout",
     "output_type": "stream",
     "text": [
      "The first 5 elements of X_train are:\n",
      " [[13.04681517 14.74115241]\n",
      " [13.40852019 13.7632696 ]\n",
      " [14.19591481 15.85318113]\n",
      " [14.91470077 16.17425987]\n",
      " [13.57669961 14.04284944]]\n"
     ]
    }
   ],
   "source": [
    "# Display the first five elements of X_train\n",
    "print(\"The first 5 elements of X_train are:\\n\", X_train[:5])  "
   ]
  },
  {
   "cell_type": "code",
   "execution_count": 77,
   "id": "8a42345a-f5d5-4b07-a1f5-32b10cc38e56",
   "metadata": {},
   "outputs": [
    {
     "name": "stdout",
     "output_type": "stream",
     "text": [
      "The first 5 elements of X_val are\n",
      " [[15.79025979 14.9210243 ]\n",
      " [13.63961877 15.32995521]\n",
      " [14.86589943 16.47386514]\n",
      " [13.58467605 13.98930611]\n",
      " [13.46404167 15.63533011]]\n"
     ]
    }
   ],
   "source": [
    "# Display the first five elements of X_val\n",
    "print(\"The first 5 elements of X_val are\\n\", X_val[:5])  "
   ]
  },
  {
   "cell_type": "code",
   "execution_count": 78,
   "id": "97ad5416-69f2-4e03-b234-e6fd47ef3484",
   "metadata": {},
   "outputs": [
    {
     "name": "stdout",
     "output_type": "stream",
     "text": [
      "The first 5 elements of y_val are\n",
      " [0 0 0 0 0]\n"
     ]
    }
   ],
   "source": [
    "# Display the first five elements of y_val\n",
    "print(\"The first 5 elements of y_val are\\n\", y_val[:5]) "
   ]
  },
  {
   "cell_type": "code",
   "execution_count": 79,
   "id": "a36d677e-8fb2-4f77-872f-f6636f0c879f",
   "metadata": {
    "scrolled": true
   },
   "outputs": [
    {
     "name": "stdout",
     "output_type": "stream",
     "text": [
      "The shape of X_train is: (307, 2)\n",
      "The shape of X_val is: (307, 2)\n",
      "The shape of y_val is:  (307,)\n"
     ]
    }
   ],
   "source": [
    "print ('The shape of X_train is:', X_train.shape)\n",
    "print ('The shape of X_val is:', X_val.shape)\n",
    "print ('The shape of y_val is: ', y_val.shape)"
   ]
  },
  {
   "cell_type": "markdown",
   "id": "af21a8c3-9eae-4b60-abe9-a0de749ceae0",
   "metadata": {},
   "source": [
    "### Visualize the data"
   ]
  },
  {
   "cell_type": "code",
   "execution_count": 80,
   "id": "c421a3f7-88c0-44b9-91d5-c210dd418516",
   "metadata": {},
   "outputs": [
    {
     "data": {
      "image/png": "[encoded data removed]",
      "text/plain": [
       "<Figure size 640x480 with 1 Axes>"
      ]
     },
     "metadata": {},
     "output_type": "display_data"
    }
   ],
   "source": [
    "# Create a scatter plot of the data. To change the markers to blue \"x\",\n",
    "# we used the 'marker' and 'c' parameters\n",
    "plt.scatter(X_train[:, 0], X_train[:, 1], marker='x', c='b') \n",
    "\n",
    "# Set the title\n",
    "plt.title(\"The first dataset\")\n",
    "# Set the y-axis label\n",
    "plt.ylabel('Throughput (mb/s)')\n",
    "# Set the x-axis label\n",
    "plt.xlabel('Latency (ms)')\n",
    "# Set axis range\n",
    "plt.axis([0, 30, 0, 30])\n",
    "plt.show()"
   ]
  },
  {
   "cell_type": "markdown",
   "id": "8ab7399c-f64a-4529-b86e-23b8846f9422",
   "metadata": {},
   "source": [
    "## Implementation\n",
    "\n",
    "We need to estimate the probability density of each training example:\n",
    "\n",
    "$$\n",
    "p(\\vec{x}) = \\prod_{i=1}^{n} p(x_j;\\mu_j, \\sigma_j^2) = \n",
    "\\prod_{i=1}^{n} \\frac{1}{\\sqrt{2\\pi} \\sigma_j} exp(-\\frac{(x_j-\\mu_j)^2}{2\\sigma_j^2})\n",
    "$$\n",
    "\n",
    "We'll implement with the following function:\n",
    "- `estimate_gaussian`: calculate the mean and variance of each feature in the dataset\n",
    "- `multivariate_gaussian`: calculate the multivariate gaussian probabibilty density of each example in the dataset"
   ]
  },
  {
   "cell_type": "code",
   "execution_count": 81,
   "id": "5d8d0e8b-9114-4344-876a-0e481292c428",
   "metadata": {},
   "outputs": [],
   "source": [
    "def estimate_gaussian(X): \n",
    "    \"\"\"\n",
    "    Calculates mean and variance of all features \n",
    "    in the dataset\n",
    "    \n",
    "    Args:\n",
    "        X (ndarray): (m, n) Data matrix\n",
    "    \n",
    "    Returns:\n",
    "        mu (ndarray): (n,) Mean of all features\n",
    "        var (ndarray): (n,) Variance of all features\n",
    "    \"\"\"\n",
    "    mu = np.mean(X, axis=0)\n",
    "    var = np.var(X, axis=0)    \n",
    "        \n",
    "    return mu, var"
   ]
  },
  {
   "cell_type": "code",
   "execution_count": 82,
   "id": "ea14da95-03d7-49f1-a06c-7d2dc0a557c7",
   "metadata": {},
   "outputs": [],
   "source": [
    "def multivariate_gaussian(X, mu, var):\n",
    "    \"\"\"\n",
    "    Calculates the multivariate gaussian of each example \n",
    "    in the dataset\n",
    "    \n",
    "    Args:\n",
    "        X (ndarray): (m, n) Data matrix\n",
    "        mu (ndarray): (n,) Mean of all features\n",
    "        var (ndarray): (n,) Variance of all features\n",
    "    Returns:\n",
    "        p (ndarray): (m, ) probability of each example in the dataset\n",
    "    \"\"\"\n",
    "    p = np.prod(np.exp(- (X - mu) ** 2 / (2 * var)) / np.sqrt(2 * np.pi * var), axis=1)\n",
    "                \n",
    "    return p"
   ]
  },
  {
   "cell_type": "code",
   "execution_count": 83,
   "id": "4e9a3863-d511-4a03-b403-0658cfe91478",
   "metadata": {},
   "outputs": [
    {
     "name": "stdout",
     "output_type": "stream",
     "text": [
      "Mean of each feature: [14.11222578 14.99771051]\n",
      "Variance of each feature: [1.83263141 1.70974533]\n"
     ]
    }
   ],
   "source": [
    "# Estimate mean and variance of each feature\n",
    "mu, var = estimate_gaussian(X_train)              \n",
    "\n",
    "print(\"Mean of each feature:\", mu)\n",
    "print(\"Variance of each feature:\", var)"
   ]
  },
  {
   "cell_type": "markdown",
   "id": "14029363-3efc-4b39-ae6f-ac5ffa27cb68",
   "metadata": {},
   "source": [
    "**Expected Output**:\n",
    "<table>\n",
    "  <tr>\n",
    "    <td> <b>Mean of each feature: <b>  </td> \n",
    "    <td> [14.11222578 14.99771051]</td> \n",
    "   </tr>    \n",
    "   <tr>\n",
    "    <td> <b>Variance of each feature: <b>  </td>\n",
    "     <td> [1.83263141 1.70974533] </td> \n",
    "  </tr>\n",
    "</table>"
   ]
  },
  {
   "cell_type": "code",
   "execution_count": 84,
   "id": "bc914d64-9ad9-463e-b0e9-066958d12b64",
   "metadata": {},
   "outputs": [],
   "source": [
    "# Returns the density of the multivariate normal\n",
    "# at each data point (row) of X_train\n",
    "p = multivariate_gaussian(X_train, mu, var)"
   ]
  },
  {
   "cell_type": "markdown",
   "id": "11c227be-05de-4f98-89ce-737370563daf",
   "metadata": {},
   "source": [
    "### Algorithm evaluation\n",
    "We'll fit the model $p(\\vec{x})$ on the cross-validation set $X_{cv}$ and predict $y=1$ (anomaly) if $p(\\vec{x})<\\varepsilon$, $y=0$ (normal) if $p(\\vec{x})\\ge\\varepsilon$.\n",
    "\n",
    "To evaluate the algorithm and find the best value for $\\varepsilon$, we'll use the F-1 score as our evaluatio metric. Recall that the precision, recall and F-1 score are defined as:\n",
    "\n",
    "$$\\begin{aligned}\n",
    "   prec&=&\\frac{tp}{tp+fp}\\\\\n",
    "   rec&=&\\frac{tp}{tp+fn}\\\\\n",
    "   F_1 &=& \\frac{2\\cdot prec \\cdot rec}{prec + rec}\n",
    "\\end{aligned}$$ \n",
    "\n",
    "We'll implement this with the following function:\n",
    "- `select_threshold`: select the threshold value $\\varepsilon$ by F-1 score"
   ]
  },
  {
   "cell_type": "code",
   "execution_count": 85,
   "id": "d1b3ad5a-1bf0-4ba2-84d6-3ebe89ef13c3",
   "metadata": {},
   "outputs": [],
   "source": [
    "def select_threshold(y_val, p_val): \n",
    "    \"\"\"\n",
    "    Finds the best threshold to use for selecting outliers \n",
    "    based on the results from a validation set (p_val) \n",
    "    and the ground truth (y_val)\n",
    "    \n",
    "    Args:\n",
    "        y_val (ndarray): Ground truth on validation set\n",
    "        p_val (ndarray): Results on validation set\n",
    "        \n",
    "    Returns:\n",
    "        epsilon (float): Threshold chosen \n",
    "        F1 (float):      F1 score by choosing epsilon as threshold\n",
    "    \"\"\" \n",
    "\n",
    "    best_epsilon = 0\n",
    "    best_F1 = 0\n",
    "    F1 = 0\n",
    "    \n",
    "    step_size = (max(p_val) - min(p_val)) / 1000\n",
    "    \n",
    "    for epsilon in np.arange(min(p_val), max(p_val), step_size):\n",
    "    \n",
    "        y_hat = (p_val < epsilon).astype(int)\n",
    "        tp = np.sum(np.logical_and(y_hat == y_val, y_hat == 1))\n",
    "        fp = np.sum(np.logical_and(y_hat != y_val, y_hat == 1))\n",
    "        fn = np.sum(np.logical_and(y_hat != y_val, y_hat == 0))   \n",
    "        prec = tp / (tp + fp)\n",
    "        rec = tp / (tp + fn)\n",
    "        F1 = 2 * prec * rec / (prec + rec)\n",
    "        \n",
    "        if F1 > best_F1:\n",
    "            best_F1 = F1\n",
    "            best_epsilon = epsilon\n",
    "        \n",
    "    return best_epsilon, best_F1"
   ]
  },
  {
   "cell_type": "code",
   "execution_count": 86,
   "id": "806c5451-8b0a-4316-be8a-57821e9a8c1a",
   "metadata": {},
   "outputs": [
    {
     "name": "stdout",
     "output_type": "stream",
     "text": [
      "Best epsilon found using cross-validation: 8.990853e-05\n",
      "Best F1 on Cross Validation Set: 0.875000\n"
     ]
    }
   ],
   "source": [
    "p_val = multivariate_gaussian(X_val, mu, var)\n",
    "epsilon, F1 = select_threshold(y_val, p_val)\n",
    "\n",
    "print('Best epsilon found using cross-validation: %e' % epsilon)\n",
    "print('Best F1 on Cross Validation Set: %f' % F1)"
   ]
  },
  {
   "cell_type": "markdown",
   "id": "ab6376bb-0f45-46ca-a605-020bf6a4ca60",
   "metadata": {},
   "source": [
    "**Expected Output**:\n",
    "<table>\n",
    "  <tr>\n",
    "    <td> <b>Best epsilon found using cross-validation: <b>  </td> \n",
    "    <td> 8.99e-05</td> \n",
    "   </tr>    \n",
    "   <tr>\n",
    "    <td> <b>Best F1 on Cross Validation Set: <b>  </td>\n",
    "     <td> 0.875 </td> \n",
    "  </tr>\n",
    "</table>"
   ]
  },
  {
   "cell_type": "markdown",
   "id": "a0c9f0ea-91b1-42cb-8e33-7bb8801a2977",
   "metadata": {},
   "source": [
    "## Find anomalies in the training set\n",
    "We've found the best threshold value, now we'll find the anomalies with our selected threshold value, and visualize the anomalies with red circles on the plot."
   ]
  },
  {
   "cell_type": "code",
   "execution_count": 87,
   "id": "ba22b873-6876-48a0-8b3d-4b714a90af58",
   "metadata": {},
   "outputs": [
    {
     "data": {
      "image/png": "[encoded data removed]",
      "text/plain": [
       "<Figure size 640x480 with 1 Axes>"
      ]
     },
     "metadata": {},
     "output_type": "display_data"
    }
   ],
   "source": [
    "# Find the outliers in the training set \n",
    "outliers = p < epsilon\n",
    "\n",
    "# Visualize the fit\n",
    "plt.scatter(X_train[:, 0], X_train[:, 1], marker='x', c='b') \n",
    "\n",
    "# Set the title\n",
    "plt.title(\"The first dataset\")\n",
    "# Set the y-axis label\n",
    "plt.ylabel('Throughput (mb/s)')\n",
    "# Set the x-axis label\n",
    "plt.xlabel('Latency (ms)')\n",
    "# Set axis range\n",
    "plt.axis([0, 30, 0, 30])\n",
    "\n",
    "# Draw a red circle around those outliers\n",
    "plt.plot(X_train[outliers, 0], X_train[outliers, 1], 'ro',\n",
    "         markersize= 10,markerfacecolor='none', markeredgewidth=2)\n",
    "plt.show()"
   ]
  },
  {
   "cell_type": "markdown",
   "id": "0a5b4c43-61dc-4ac6-8058-c812c2f9ef3f",
   "metadata": {},
   "source": [
    "### High dimensional dataset\n",
    "\n",
    "Now,  we will run the anomaly detection algorithm on a more realistic dataset with 11 features for each example.\n",
    "\n",
    "Let's start by loading the dataset."
   ]
  },
  {
   "cell_type": "code",
   "execution_count": 88,
   "id": "85443272-9181-4902-afe4-cd732547f640",
   "metadata": {},
   "outputs": [],
   "source": [
    "# Load the dataset\n",
    "X_train_high = np.load('./data_anomaly/X_part2.npy')\n",
    "X_val_high =  np.load('./data_anomaly/X_val_part2.npy')\n",
    "y_val_high = np.load('./data_anomaly/y_val_part2.npy')"
   ]
  },
  {
   "cell_type": "code",
   "execution_count": 89,
   "id": "85d907a3-46dc-4083-b383-5d79d3119098",
   "metadata": {},
   "outputs": [
    {
     "name": "stdout",
     "output_type": "stream",
     "text": [
      "The shape of X_train_high is: (1000, 11)\n",
      "The shape of X_val_high is: (100, 11)\n",
      "The shape of y_val_high is:  (100,)\n"
     ]
    }
   ],
   "source": [
    "print ('The shape of X_train_high is:', X_train_high.shape)\n",
    "print ('The shape of X_val_high is:', X_val_high.shape)\n",
    "print ('The shape of y_val_high is: ', y_val_high.shape)"
   ]
  },
  {
   "cell_type": "markdown",
   "id": "01a58807-554f-4050-a5ef-002024933ef0",
   "metadata": {},
   "source": [
    "Now let's run the above algorithm on this larger dataset."
   ]
  },
  {
   "cell_type": "code",
   "execution_count": 90,
   "id": "0396e38d-addd-43c9-917d-02135486d8bd",
   "metadata": {},
   "outputs": [
    {
     "name": "stdout",
     "output_type": "stream",
     "text": [
      "Best epsilon found using cross-validation: 1.377229e-18\n",
      "Best F1 on Cross Validation Set:  0.615385\n",
      "# Anomalies found: 117\n"
     ]
    }
   ],
   "source": [
    "# Apply the same steps to the larger dataset\n",
    "\n",
    "# Estimate the Gaussian parameters\n",
    "mu_high, var_high = estimate_gaussian(X_train_high)\n",
    "\n",
    "# Evaluate the probabilites for the training set\n",
    "p_high = multivariate_gaussian(X_train_high, mu_high, var_high)\n",
    "\n",
    "# Evaluate the probabilites for the cross validation set\n",
    "p_val_high = multivariate_gaussian(X_val_high, mu_high, var_high)\n",
    "\n",
    "# Find the best threshold\n",
    "epsilon_high, F1_high = select_threshold(y_val_high, p_val_high)\n",
    "\n",
    "print('Best epsilon found using cross-validation: %e'% epsilon_high)\n",
    "print('Best F1 on Cross Validation Set:  %f'% F1_high)\n",
    "print('# Anomalies found: %d'% sum(p_high < epsilon_high))"
   ]
  },
  {
   "cell_type": "markdown",
   "id": "7608914b-46cb-486a-84ec-edb033534c68",
   "metadata": {},
   "source": [
    "**Expected Output**:\n",
    "<table>\n",
    "  <tr>\n",
    "    <td> <b>Best epsilon found using cross-validation: <b>  </td> \n",
    "    <td> 1.38e-18</td> \n",
    "   </tr>    \n",
    "   <tr>\n",
    "    <td> <b>Best F1 on Cross Validation Set: <b>  </td>\n",
    "     <td> 0.615385 </td> \n",
    "  </tr>\n",
    "    <tr>\n",
    "    <td> <b># anomalies found: <b>  </td>\n",
    "     <td>  117 </td> \n",
    "  </tr>\n",
    "</table>"
   ]
  },
  {
   "cell_type": "code",
   "execution_count": null,
   "id": "63eb7ed3-7d27-4b28-bb86-d09e1d53c9c4",
   "metadata": {},
   "outputs": [],
   "source": []
  }
 ],
 "metadata": {
  "kernelspec": {
   "display_name": "Python 3 (ipykernel)",
   "language": "python",
   "name": "python3"
  },
  "language_info": {
   "codemirror_mode": {
    "name": "ipython",
    "version": 3
   },
   "file_extension": ".py",
   "mimetype": "text/x-python",
   "name": "python",
   "nbconvert_exporter": "python",
   "pygments_lexer": "ipython3",
   "version": "3.9.13"
  }
 },
 "nbformat": 4,
 "nbformat_minor": 5
}
