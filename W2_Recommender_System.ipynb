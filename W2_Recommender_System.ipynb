{
 "cells": [
  {
   "cell_type": "markdown",
   "id": "b1ca277d-5e8b-4c75-b017-6363e0c2b233",
   "metadata": {},
   "source": [
    "# Collaborative Filtering Recommender System\n",
    "In this notebook, we'll implement collaborative filtering to build a recommender system for movies, and use it to recommend new movies for myself.  \n",
    "The code here are based on my own implementations in the graded lab, organized and rewritten to be more succinct and clear."
   ]
  },
  {
   "cell_type": "markdown",
   "id": "67f966fd-3d88-4778-83dd-be049126756f",
   "metadata": {},
   "source": [
    "### Tensors and operations in tensorflow\n",
    "See this [link](https://www.tensorflow.org/tutorials/customization/basics) for tensors and their operations, as well as the conversion between tensors and numpy arrays."
   ]
  },
  {
   "cell_type": "markdown",
   "id": "3b244334-6b75-4a70-9349-2a69961c4599",
   "metadata": {},
   "source": [
    "## Tools"
   ]
  },
  {
   "cell_type": "code",
   "execution_count": 82,
   "id": "67bde927-25eb-4513-98a5-058dedcaefbd",
   "metadata": {},
   "outputs": [],
   "source": [
    "import numpy as np\n",
    "import pandas as pd\n",
    "import tensorflow as tf\n",
    "from tensorflow import keras"
   ]
  },
  {
   "cell_type": "markdown",
   "id": "2e87bf1d-6338-46c1-abf4-3b210177e520",
   "metadata": {},
   "source": [
    "## Collaborative Filtering Algorithm\n",
    "\n",
    "We'll be predicting the movie ratings as follows: for user $j$, predict rating for movie $i$ as:\n",
    "\n",
    "$$\n",
    "Y(i,j) = R(i,j) * (\\vec{w}^{(j)} \\cdot \\vec{x}^{(i)} + b^{(j)})\n",
    "$$\n",
    "\n",
    "where $R(i,j) = 1$ if user $j$ has rated movie $i$, and $R(i,j) = 0$ if not.\n",
    "\n",
    "We'll use gradient descent with the following cost function to learn the parameters $\\mathbf{X}$, $\\mathbf{W}$, and $\\mathbf{b}$ collaboratively.\n",
    "\n",
    "$$J({\\mathbf{x}^{(0)},...,\\mathbf{x}^{(n_m-1)},\\mathbf{w}^{(0)},b^{(0)},...,\\mathbf{w}^{(n_u-1)},b^{(n_u-1)}})= \\left[ \\frac{1}{2}\\sum_{(i,j):r(i,j)=1}(\\mathbf{w}^{(j)} \\cdot \\mathbf{x}^{(i)} + b^{(j)} - y^{(i,j)})^2 \\right]\n",
    "+ \\underbrace{\\left[\n",
    "\\frac{\\lambda}{2}\n",
    "\\sum_{j=0}^{n_u-1}\\sum_{k=0}^{n-1}(\\mathbf{w}^{(j)}_k)^2\n",
    "+ \\frac{\\lambda}{2}\\sum_{i=0}^{n_m-1}\\sum_{k=0}^{n-1}(\\mathbf{x}_k^{(i)})^2\n",
    "\\right]}_{regularization}\n",
    "$$"
   ]
  },
  {
   "cell_type": "markdown",
   "id": "5d5ec891-eb1c-4854-8a6d-be8262d4058e",
   "metadata": {},
   "source": [
    "## Implementation\n",
    "\n",
    "### Cost function\n",
    "We'll implement the cost function with the following function:\n",
    "- `cofi_cost_func`: compute cost for collaborative filtering"
   ]
  },
  {
   "cell_type": "code",
   "execution_count": 83,
   "id": "97aedec5-0d4d-45b8-b36a-bb08c7be67ee",
   "metadata": {},
   "outputs": [],
   "source": [
    "def cofi_cost_func(X, W, b, Y, R, lambda_):\n",
    "    \"\"\"\n",
    "    Returns the cost for the collaborative filtering\n",
    "    Vectorized for speed. Uses tensorflow operations to be compatible with custom training loop.\n",
    "    Args:\n",
    "      X (ndarray (num_movies,num_features)): matrix of item features\n",
    "      W (ndarray (num_users,num_features)) : matrix of user parameters\n",
    "      b (ndarray (1, num_users)            : vector of user parameters\n",
    "      Y (ndarray (num_movies,num_users)    : matrix of user ratings of movies\n",
    "      R (ndarray (num_movies,num_users)    : matrix, where R(i, j) = 1 if the i-th movies was rated by the j-th user\n",
    "      lambda_ (float): regularization parameter\n",
    "    Returns:\n",
    "      J (float) : Cost\n",
    "    \"\"\"\n",
    "    J = tf.math.reduce_sum((R * (tf.linalg.matmul(X, tf.transpose(W)) + b - Y))**2)\n",
    "    reg = lambda_ * (tf.math.reduce_sum(W**2) + tf.math.reduce_sum(X**2))\n",
    "    J = (J + reg) / 2\n",
    "    \n",
    "    return J"
   ]
  },
  {
   "cell_type": "markdown",
   "id": "01bce73e-ef43-4a71-85de-59fcdd430ad0",
   "metadata": {},
   "source": [
    "## Making movie recommendations for myself"
   ]
  },
  {
   "cell_type": "markdown",
   "id": "dded75e4-501e-432f-97cd-9e58b4cf33d2",
   "metadata": {},
   "source": [
    "### Dataset\n",
    "\n",
    "The movie ratings data set is from the course graded lab. The data set is derived from the [MovieLens \"ml-latest-small\"](https://grouplens.org/datasets/movielens/latest/) dataset.   \n",
    "[F. Maxwell Harper and Joseph A. Konstan. 2015. The MovieLens Datasets: History and Context. ACM Transactions on Interactive Intelligent Systems (TiiS) 5, 4: 19:1–19:19. <https://doi.org/10.1145/2827872>]\n",
    "\n",
    "The original dataset has  9000 movies rated by 600 users. The dataset has been reduced in size to focus on movies from the years since 2000. This dataset consists of ratings on a scale of 0.5 to 5 in 0.5 step increments. The reduced dataset has $n_u = 443$ users, and $n_m= 4778$ movies. "
   ]
  },
  {
   "cell_type": "code",
   "execution_count": 84,
   "id": "59fa9fb0-eb63-4344-b94c-b4f516107dad",
   "metadata": {},
   "outputs": [
    {
     "name": "stdout",
     "output_type": "stream",
     "text": [
      "Y (4778, 443) R (4778, 443)\n"
     ]
    }
   ],
   "source": [
    "Y = np.genfromtxt('./data_movies/small_movies_Y.csv', delimiter=',')\n",
    "R = np.genfromtxt('./data_movies/small_movies_R.csv', delimiter=',')\n",
    "\n",
    "print(\"Y\", Y.shape, \"R\", R.shape)"
   ]
  },
  {
   "cell_type": "code",
   "execution_count": 85,
   "id": "fdc3fc5a-16e0-4c11-a84e-d54a239eefde",
   "metadata": {},
   "outputs": [],
   "source": [
    "# Useful parameters\n",
    "n_m, n_u = Y.shape  # n_m: number of movies, n_u: number of users\n",
    "n_f = 100  # number of features for each movie"
   ]
  },
  {
   "cell_type": "markdown",
   "id": "b2da7652-0846-4ad3-b626-5bc19b348066",
   "metadata": {},
   "source": [
    "### New user ratings\n",
    "In the cell below, I'll select a few movies from the movie list (filename: small_movie_list.csv) and give my own ratings. I'll then train the recommendation system to recommend movies for myself."
   ]
  },
  {
   "cell_type": "code",
   "execution_count": 86,
   "id": "1edd6ade-d5eb-4dc8-9a05-5ce977f71fda",
   "metadata": {},
   "outputs": [
    {
     "name": "stdout",
     "output_type": "stream",
     "text": [
      "\n",
      "New user ratings:\n",
      "\n",
      "Rated 5.0 for  Lord of the Rings: The Fellowship of the Ring, The (2001)\n",
      "Rated 5.0 for  Spirited Away (Sen to Chihiro no kamikakushi) (2001)\n",
      "Rated 5.0 for  Lord of the Rings: The Two Towers, The (2002)\n",
      "Rated 3.5 for  Pirates of the Caribbean: The Curse of the Black Pearl (2003)\n",
      "Rated 5.0 for  Lord of the Rings: The Return of the King, The (2003)\n",
      "Rated 3.5 for  Inception (2010)\n",
      "Rated 4.5 for  Life of Pi (2012)\n",
      "Rated 4.0 for  Hobbit: An Unexpected Journey, The (2012)\n",
      "Rated 4.5 for  Hobbit: The Desolation of Smaug, The (2013)\n",
      "Rated 3.5 for  The Hobbit: The Battle of the Five Armies (2014)\n",
      "Rated 4.5 for  Your Name. (2016)\n"
     ]
    }
   ],
   "source": [
    "movieList_df = pd.read_csv('./data_movies/small_movie_list.csv', header=0, index_col=0,  delimiter=',', quotechar='\"')\n",
    "movieList = movieList_df[\"title\"].to_list()\n",
    "my_ratings = np.zeros(n_m)  #  Initialize my ratings\n",
    "\n",
    "# my_ratings[movie_id] = rating\n",
    "my_ratings[393]  = 5   # Lord of the Rings: The Fellowship of the Ring, The \n",
    "my_ratings[653]  = 5   # Lord of the Rings: The Two Towers, The\n",
    "my_ratings[929]  = 5   # Lord of the Rings: The Return of the King, The\n",
    "my_ratings[3326]  = 4   # Hobbit: An Unexpected Journey, The\n",
    "my_ratings[3547] = 4.5   # Hobbit: The Desolation of Smaug, The\n",
    "my_ratings[3843] = 3.5   # The Hobbit: The Battle of the Five Armies\n",
    "my_ratings[580]  = 5   # Spirited Away (Sen to Chihiro no kamikakushi)\n",
    "my_ratings[4478]  = 4.5   # Your Name\n",
    "my_ratings[793]  = 3.5   # Pirates of the Caribbean: The Curse of the Black Pearl\n",
    "my_ratings[3304]  = 4.5   # Life of Pi \n",
    "my_ratings[2716]  = 3.5   # Inception\n",
    "my_rated = [i for i in range(len(my_ratings)) if my_ratings[i] > 0]\n",
    "\n",
    "print('\\nNew user ratings:\\n')\n",
    "for i in range(len(my_ratings)):\n",
    "    if my_ratings[i] > 0 :\n",
    "        print(f'Rated {my_ratings[i]} for  {movieList_df.loc[i,\"title\"]}');"
   ]
  },
  {
   "cell_type": "markdown",
   "id": "6716e6f8-db41-4f5c-b934-7ef37f6c764c",
   "metadata": {},
   "source": [
    "### Normalize the ratings\n",
    "To make a more reasonable prediction for a new user who has rated none or only very few movies, we'll use mean normalization on the data. The following function `normalizeRatings` is from the course grade lab."
   ]
  },
  {
   "cell_type": "code",
   "execution_count": 87,
   "id": "bf1875cb-4cb5-43aa-a134-872d61d590ed",
   "metadata": {},
   "outputs": [],
   "source": [
    "def normalizeRatings(Y, R):\n",
    "    \"\"\"\n",
    "    Preprocess data by subtracting mean rating for every movie (every row).\n",
    "    Only include real ratings R(i,j)=1.\n",
    "    [Ynorm, Ymean] = normalizeRatings(Y, R) normalized Y so that each movie\n",
    "    has a rating of 0 on average. Unrated moves then have a mean rating (0)\n",
    "    Returns the mean rating in Ymean.\n",
    "    \"\"\"\n",
    "    Ymean = (np.sum(Y*R,axis=1)/(np.sum(R, axis=1)+1e-12)).reshape(-1,1)\n",
    "    Ynorm = Y - np.multiply(Ymean, R) \n",
    "    return(Ynorm, Ymean)"
   ]
  },
  {
   "cell_type": "code",
   "execution_count": 88,
   "id": "ead40050-0d76-47f6-84b9-c2af67e2b31a",
   "metadata": {},
   "outputs": [],
   "source": [
    "# Add new user ratings to Y \n",
    "Y = np.c_[my_ratings, Y]\n",
    "\n",
    "# Add new user indicator matrix to R\n",
    "R = np.c_[(my_ratings != 0).astype(int), R]\n",
    "\n",
    "# Normalize the Dataset\n",
    "Ynorm, Ymean = normalizeRatings(Y, R)"
   ]
  },
  {
   "cell_type": "markdown",
   "id": "6da28c38-b25b-4760-b992-f552102045a8",
   "metadata": {},
   "source": [
    "### Model training\n",
    "We'll train the model with a custom training loop in tensorflow with the Adam optimizer:"
   ]
  },
  {
   "cell_type": "code",
   "execution_count": 89,
   "id": "edcc18a5-8f43-4b88-b1e0-cce1ab5624a6",
   "metadata": {},
   "outputs": [],
   "source": [
    "# Useful parameters\n",
    "n_m, n_u = Y.shape  # n_m: number of movies, n_u: number of users\n",
    "n_f = 100  # number of features for each movie\n",
    "alpha = 1e-1  # learning rate\n",
    "\n",
    "# Set Initial Parameters (W, X), use tf.Variable to track these variables\n",
    "# Randomly initalized parameters W, b, X\n",
    "tf.random.set_seed(1234) # for consistent results\n",
    "W = tf.Variable(tf.random.normal([n_u, n_f], dtype=tf.float64), name='W')\n",
    "X = tf.Variable(tf.random.normal([n_m, n_f], dtype=tf.float64), name='X')\n",
    "b = tf.Variable(tf.random.normal([1, n_u], dtype=tf.float64), name='b')\n",
    "\n",
    "# Instatntiate on optimizer\n",
    "optimizer = keras.optimizers.Adam(learning_rate = alpha)"
   ]
  },
  {
   "cell_type": "code",
   "execution_count": 90,
   "id": "d41909fd-6ef2-4faa-b79a-440a94ca18a6",
   "metadata": {},
   "outputs": [
    {
     "name": "stdout",
     "output_type": "stream",
     "text": [
      "Training loss at iteration 0: 2321299.7\n",
      "Training loss at iteration 20: 136152.4\n",
      "Training loss at iteration 40: 51855.9\n",
      "Training loss at iteration 60: 24596.6\n",
      "Training loss at iteration 80: 13629.4\n",
      "Training loss at iteration 100: 8486.6\n",
      "Training loss at iteration 120: 5806.5\n",
      "Training loss at iteration 140: 4310.3\n",
      "Training loss at iteration 160: 3433.8\n",
      "Training loss at iteration 180: 2900.5\n",
      "Training loss at iteration 200: 2564.9\n",
      "Training loss at iteration 220: 2346.9\n",
      "Training loss at iteration 240: 2201.0\n",
      "Training loss at iteration 260: 2100.4\n",
      "Training loss at iteration 280: 2029.2\n"
     ]
    }
   ],
   "source": [
    "iterations = 300\n",
    "lambda_ = 1.\n",
    "\n",
    "for iter in range(iterations):\n",
    "    # Use TensorFlow’s GradientTape\n",
    "    # to record the operations used to compute the cost \n",
    "    with tf.GradientTape() as tape:\n",
    "\n",
    "        # Compute the cost (forward pass included in cost)\n",
    "        cost_value = cofi_cost_func(X, W, b, Ynorm, R, lambda_)\n",
    "\n",
    "    # Use the gradient tape to automatically retrieve\n",
    "    # the gradients of the trainable variables with respect to the loss\n",
    "    grads = tape.gradient( cost_value, [X,W,b] )\n",
    "\n",
    "    # Run one step of gradient descent by updating\n",
    "    # the value of the variables to minimize the loss.\n",
    "    optimizer.apply_gradients( zip(grads, [X,W,b]) )\n",
    "\n",
    "    # Log periodically.\n",
    "    if iter % 20 == 0:\n",
    "        print(f\"Training loss at iteration {iter}: {cost_value:0.1f}\")"
   ]
  },
  {
   "cell_type": "markdown",
   "id": "5899f68f-4c26-410b-9c4b-9e98f6c84396",
   "metadata": {},
   "source": [
    "### Make recommendations\n",
    "After we learned the parameters $\\mathbf{W}$, and $\\mathbf{b}$ for the users (including the new user), as well as the feature vectors $\\mathbf{X}$ for the movies, we can predict the ratings that the new user would give for all movies. One simple way of making recommendations is to recommend the first few (say, 10) movies with the highest predicted ratings."
   ]
  },
  {
   "cell_type": "code",
   "execution_count": 91,
   "id": "7152c1fd-4a63-4cf5-9f49-fa4bc00a1e40",
   "metadata": {},
   "outputs": [
    {
     "name": "stdout",
     "output_type": "stream",
     "text": [
      "Predicting rating 5.45 for movie Bossa Nova (2000)\n",
      "Predicting rating 5.45 for movie Colourful (Karafuru) (2010)\n",
      "Predicting rating 5.45 for movie Raise Your Voice (2004)\n",
      "Predicting rating 5.45 for movie Kung Fu Panda: Secrets of the Masters (2011)\n",
      "Predicting rating 5.44 for movie I'm the One That I Want (2000)\n",
      "Predicting rating 5.44 for movie Son of the Bride (Hijo de la novia, El) (2001)\n",
      "Predicting rating 5.44 for movie Wonder Woman (2009)\n",
      "Predicting rating 5.44 for movie Justice League: Doom (2012) \n",
      "Predicting rating 5.44 for movie A Detective Story (2003)\n",
      "Predicting rating 5.44 for movie Superman/Batman: Public Enemies (2009)\n",
      "Predicting rating 5.44 for movie Faster (2010)\n",
      "Predicting rating 5.44 for movie Max Manus (2008)\n",
      "Predicting rating 5.44 for movie Deathgasm (2015)\n",
      "Predicting rating 5.44 for movie I Am Not Your Negro (2017)\n",
      "Predicting rating 5.44 for movie Won't You Be My Neighbor? (2018)\n",
      "Predicting rating 5.44 for movie Act of Killing, The (2012)\n",
      "Predicting rating 5.44 for movie Indignation (2016)\n",
      "Predicting rating 5.44 for movie Who Killed Chea Vichea? (2010)\n",
      "Predicting rating 5.44 for movie Ex Drummer (2007)\n",
      "Predicting rating 5.44 for movie Nine Lives of Tomas Katz, The (2000)\n",
      "Predicting rating 5.44 for movie Tyler Perry's I Can Do Bad All by Myself (2009)\n",
      "Predicting rating 5.44 for movie Radio Day (2008)\n",
      "Predicting rating 5.44 for movie My Love (2006)\n",
      "Predicting rating 5.44 for movie PK (2014)\n",
      "Predicting rating 5.44 for movie Martin Lawrence Live: Runteldat (2002)\n",
      "Predicting rating 5.44 for movie Loving Vincent (2017)\n",
      "Predicting rating 5.44 for movie Alesha Popovich and Tugarin the Dragon (2004)\n",
      "Predicting rating 5.44 for movie George Carlin: Life Is Worth Losing (2005)\n",
      "Predicting rating 5.44 for movie George Carlin: It's Bad for Ya! (2008)\n",
      "Predicting rating 5.44 for movie Sisters (Syostry) (2001)\n",
      "\n",
      "\n",
      "Original vs Predicted ratings:\n",
      "\n",
      "Original 5.0, Predicted 4.99 for Lord of the Rings: The Fellowship of the Ring, The (2001)\n",
      "Original 5.0, Predicted 4.91 for Spirited Away (Sen to Chihiro no kamikakushi) (2001)\n",
      "Original 5.0, Predicted 4.92 for Lord of the Rings: The Two Towers, The (2002)\n",
      "Original 3.5, Predicted 3.60 for Pirates of the Caribbean: The Curse of the Black Pearl (2003)\n",
      "Original 5.0, Predicted 5.00 for Lord of the Rings: The Return of the King, The (2003)\n",
      "Original 3.5, Predicted 3.62 for Inception (2010)\n",
      "Original 4.5, Predicted 4.36 for Life of Pi (2012)\n",
      "Original 4.0, Predicted 4.06 for Hobbit: An Unexpected Journey, The (2012)\n",
      "Original 4.5, Predicted 4.35 for Hobbit: The Desolation of Smaug, The (2013)\n",
      "Original 3.5, Predicted 3.65 for The Hobbit: The Battle of the Five Armies (2014)\n",
      "Original 4.5, Predicted 4.55 for Your Name. (2016)\n"
     ]
    }
   ],
   "source": [
    "# Make a prediction using trained weights and biases\n",
    "p = np.matmul(X.numpy(), np.transpose(W.numpy())) + b.numpy()\n",
    "\n",
    "#restore the mean\n",
    "pm = p + Ymean\n",
    "\n",
    "my_predictions = pm[:,0]\n",
    "\n",
    "# sort predictions\n",
    "ix = tf.argsort(my_predictions, direction='DESCENDING')\n",
    "\n",
    "for i in range(30):\n",
    "    j = ix[i]\n",
    "    if j not in my_rated:\n",
    "        print(f'Predicting rating {my_predictions[j]:0.2f} for movie {movieList[j]}')\n",
    "\n",
    "print('\\n\\nOriginal vs Predicted ratings:\\n')\n",
    "for i in range(len(my_ratings)):\n",
    "    if my_ratings[i] > 0:\n",
    "        print(f'Original {my_ratings[i]}, Predicted {my_predictions[i]:0.2f} for {movieList[i]}')"
   ]
  },
  {
   "cell_type": "code",
   "execution_count": null,
   "id": "82e88f20-da1d-4067-bd53-8192a8d8c8c1",
   "metadata": {},
   "outputs": [],
   "source": []
  }
 ],
 "metadata": {
  "kernelspec": {
   "display_name": "Python 3 (ipykernel)",
   "language": "python",
   "name": "python3"
  },
  "language_info": {
   "codemirror_mode": {
    "name": "ipython",
    "version": 3
   },
   "file_extension": ".py",
   "mimetype": "text/x-python",
   "name": "python",
   "nbconvert_exporter": "python",
   "pygments_lexer": "ipython3",
   "version": "3.8.18"
  }
 },
 "nbformat": 4,
 "nbformat_minor": 5
}
